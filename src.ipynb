{
 "cells": [
  {
   "cell_type": "markdown",
   "metadata": {},
   "source": [
    "#Tyneshia Buie | Investigate a Relational Database 5/15/2020 "
   ]
  },
  {
   "cell_type": "code",
   "execution_count": 2,
   "metadata": {},
   "outputs": [],
   "source": [
    "import pandas as pd"
   ]
  },
  {
   "cell_type": "markdown",
   "metadata": {},
   "source": [
    "Query 1.) What are the most successful categories among the family movies\n",
    "       \n",
    "            JOIN, WHERE, GROUP BY, ORDER BY\n"
   ]
  },
  {
   "cell_type": "code",
   "execution_count": null,
   "metadata": {},
   "outputs": [],
   "source": [
    "SELECT f.title, c.name AS category, \n",
    "    COUNT(r.rental_id) AS rental_count\n",
    "FROM category c\n",
    "        JOIN film_category fc\n",
    "        ON c.category_id = fc.category_id\n",
    "        JOIN film f\n",
    "        ON f.film_id = fc.film_id\n",
    "        JOIN inventory i\n",
    "        ON f.film_id = i.film_id\n",
    "        JOIN rental r\n",
    "        ON i.inventory_id = r.inventory_id\n",
    "    WHERE c.name IN ('Animation', 'Children', 'Classics', 'Comedy', 'Family', 'Music')\n",
    "    GROUP BY 1, 2\n",
    "    ORDER BY 2, 1\n"
   ]
  },
  {
   "cell_type": "markdown",
   "metadata": {},
   "source": [
    "Query 2.) What is the distribution of family-friendly movies among the film categories and rental duration categories ?\n",
    "\n",
    "           Window Function IN, INTILE"
   ]
  },
  {
   "cell_type": "code",
   "execution_count": null,
   "metadata": {},
   "outputs": [],
   "source": [
    "SELECT f.title, c.name AS category, f.rental_duration,\n",
    "        NTILE(4) \n",
    "            OVER(ORDER BY f.rental_duration) AS quartile\n",
    "FROM category c\n",
    "        JOIN film_category fc\n",
    "        ON c.category_id = fc.category_id\n",
    "        JOIN film f\n",
    "        ON f.film_id = fc.film_id\n",
    "    WHERE c.name \n",
    "        IN ('Animation', 'Children', 'Classics', 'Comedy', 'Family', 'Music')\n"
   ]
  },
  {
   "cell_type": "markdown",
   "metadata": {},
   "source": [
    "Query 3.) How do the two stores compare in their count of rental orders ?         "
   ]
  },
  {
   "cell_type": "code",
   "execution_count": null,
   "metadata": {},
   "outputs": [],
   "source": [
    "SELECT DATE_PART('month',r.rental_date) AS rental_month,\n",
    "       DATE_PART('year',r.rental_date) AS rental_year,\n",
    "       sto.store_id,\n",
    "       COUNT(*) AS rental_count\n",
    "FROM rental AS r\n",
    "        JOIN payment AS p\n",
    "        ON r.rental_id = p.rental_id\n",
    "        JOIN staff sta\n",
    "        ON p.staff_id = sta.staff_id\n",
    "        JOIN store sto\n",
    "        ON sta.store_id = sto.store_id\n",
    "    GROUP BY rental_month, rental_year, sto.store_id\n",
    "    ORDER BY rental_count DESC;\n"
   ]
  },
  {
   "attachments": {},
   "cell_type": "markdown",
   "metadata": {},
   "source": [
    "Who are the top 10 paying customers ? How many did each paid in total ?\n",
    "        \n",
    "        subquery,boolean, WITH, LIMIT GROUPBY, ORDERBYWITH t1 \n",
    "\n"
   ]
  },
  {
   "cell_type": "code",
   "execution_count": null,
   "metadata": {},
   "outputs": [],
   "source": [
    "    WITH t1 AS(\n",
    "SELECT first_name||' '||last_name AS fullname,\n",
    "       SUM(p.amount) AS total_amount\n",
    "FROM customer c\n",
    "        JOIN payment p\n",
    "        ON c.customer_id = p.customer_id\n",
    "    GROUP BY 1\n",
    "    ORDER BY  2 DESC LIMIT 10)\n",
    "\n",
    "SELECT fullname,\n",
    "       total_amount\n",
    "FROM t1;\n"
   ]
  }
 ],
 "metadata": {
  "kernelspec": {
   "display_name": "Python 3",
   "language": "python",
   "name": "python3"
  },
  "language_info": {
   "codemirror_mode": {
    "name": "ipython",
    "version": 3
   },
   "file_extension": ".py",
   "mimetype": "text/x-python",
   "name": "python",
   "nbconvert_exporter": "python",
   "pygments_lexer": "ipython3",
   "version": "3.7.6"
  }
 },
 "nbformat": 4,
 "nbformat_minor": 4
}
